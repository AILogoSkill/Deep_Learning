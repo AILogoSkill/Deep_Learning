{
  "nbformat": 4,
  "nbformat_minor": 0,
  "metadata": {
    "colab": {
      "provenance": [],
      "toc_visible": true
    },
    "kernelspec": {
      "display_name": "Python 3",
      "language": "python",
      "name": "python3"
    },
    "language_info": {
      "codemirror_mode": {
        "name": "ipython",
        "version": 3
      },
      "file_extension": ".py",
      "mimetype": "text/x-python",
      "name": "python",
      "nbconvert_exporter": "python",
      "pygments_lexer": "ipython3",
      "version": "3.6.8"
    }
  },
  "cells": [
    {
      "cell_type": "markdown",
      "source": [
        "## Детали метода fit в Keras"
      ],
      "metadata": {
        "id": "Q9lphOLwnZgW"
      }
    },
    {
      "cell_type": "markdown",
      "source": [
        "Сегодня обсудим:\n",
        "1. Как обучаться по батчам (batch_size)\n",
        "2. Как при обучении считать метрики и на тесте (validation_data)\n",
        "3. Как обучаться на генераторах\n",
        "4. И как визуализировать процесс обучения\n"
      ],
      "metadata": {
        "id": "lsgGTfpbH4-M"
      }
    },
    {
      "cell_type": "markdown",
      "source": [
        "Получение данных\n",
        "\n",
        "Описание датасета:\n",
        "\n",
        "- CRIM     per capita crime rate by town\n",
        "- ZN       proportion of residential land zoned for lots over 25,000 sq.ft.\n",
        "- INDUS    proportion of non-retail business acres per town\n",
        "- CHAS     Charles River dummy variable (= 1 if tract bounds river; 0 otherwise)\n",
        "- NOX      nitric oxides concentration (parts per 10 million)\n",
        "- RM       average number of rooms per dwelling\n",
        "- AGE      proportion of owner-occupied units built prior to 1940\n",
        "- DIS      weighted distances to five Boston employment centres\n",
        "- RAD      index of accessibility to radial highways\n",
        "- TAX      full-value property-tax rate per 10,000\n",
        "- PTRATIO  pupil-teacher ratio by town\n",
        "- B        1000(Bk - 0.63)^2 where Bk is the proportion of blacks by town\n",
        "- LSTAT    % lower status of the population\n",
        "- MEDV     Median value of owner-occupied homes in $1000's"
      ],
      "metadata": {
        "id": "5wJj0qVRMUhf"
      }
    },
    {
      "cell_type": "code",
      "source": [
        "from keras.datasets import boston_housing\n",
        "\n",
        "(X_train, y_train), (X_test, y_test) = boston_housing.load_data()\n",
        "\n",
        "X_train.shape, X_test.shape"
      ],
      "metadata": {
        "colab": {
          "base_uri": "https://localhost:8080/"
        },
        "id": "22XUy6MVL66Z",
        "outputId": "37499774-2593-4cb1-8948-d7c20d4199ca"
      },
      "execution_count": null,
      "outputs": [
        {
          "output_type": "execute_result",
          "data": {
            "text/plain": [
              "((404, 13), (102, 13))"
            ]
          },
          "metadata": {},
          "execution_count": 25
        }
      ]
    },
    {
      "cell_type": "code",
      "source": [
        "X_train[:1]"
      ],
      "metadata": {
        "colab": {
          "base_uri": "https://localhost:8080/"
        },
        "id": "Q5Ds6QFBMiAX",
        "outputId": "ca0610b3-9e64-4ab2-d287-bd1d5dc902d6"
      },
      "execution_count": null,
      "outputs": [
        {
          "output_type": "execute_result",
          "data": {
            "text/plain": [
              "array([[  1.23247,   0.     ,   8.14   ,   0.     ,   0.538  ,   6.142  ,\n",
              "         91.7    ,   3.9769 ,   4.     , 307.     ,  21.     , 396.9    ,\n",
              "         18.72   ]])"
            ]
          },
          "metadata": {},
          "execution_count": 26
        }
      ]
    },
    {
      "cell_type": "markdown",
      "source": [
        "Масштабирование данных"
      ],
      "metadata": {
        "id": "CSYSvyorMWTO"
      }
    },
    {
      "cell_type": "code",
      "source": [
        "mean = X_train.mean(axis=0)\n",
        "std = X_train.std(axis=0)\n",
        "\n",
        "mean, std"
      ],
      "metadata": {
        "colab": {
          "base_uri": "https://localhost:8080/"
        },
        "id": "xAepFcolMM93",
        "outputId": "d1a2afda-5d00-4e3a-e270-0af1469e6e4c"
      },
      "execution_count": null,
      "outputs": [
        {
          "output_type": "execute_result",
          "data": {
            "text/plain": [
              "(array([3.74511057e+00, 1.14801980e+01, 1.11044307e+01, 6.18811881e-02,\n",
              "        5.57355941e-01, 6.26708168e+00, 6.90106436e+01, 3.74027079e+00,\n",
              "        9.44059406e+00, 4.05898515e+02, 1.84759901e+01, 3.54783168e+02,\n",
              "        1.27408168e+01]),\n",
              " array([9.22929073e+00, 2.37382770e+01, 6.80287253e+00, 2.40939633e-01,\n",
              "        1.17147847e-01, 7.08908627e-01, 2.79060634e+01, 2.02770050e+00,\n",
              "        8.68758849e+00, 1.66168506e+02, 2.19765689e+00, 9.39946015e+01,\n",
              "        7.24556085e+00]))"
            ]
          },
          "metadata": {},
          "execution_count": 27
        }
      ]
    },
    {
      "cell_type": "code",
      "source": [
        "X_train -= mean\n",
        "X_train /= std\n",
        "\n",
        "X_test -= mean\n",
        "X_test /= std"
      ],
      "metadata": {
        "id": "qu2qimTJMMyT"
      },
      "execution_count": null,
      "outputs": []
    },
    {
      "cell_type": "code",
      "source": [
        "X_train.mean(axis=0)"
      ],
      "metadata": {
        "colab": {
          "base_uri": "https://localhost:8080/"
        },
        "id": "p3vd2WHqMMoa",
        "outputId": "66d4cd9c-44ee-4b1a-9e50-57caaa5256af"
      },
      "execution_count": null,
      "outputs": [
        {
          "output_type": "execute_result",
          "data": {
            "text/plain": [
              "array([-1.01541438e-16,  1.09923072e-17,  1.74337992e-15, -1.26686340e-16,\n",
              "       -5.25377321e-15,  6.41414864e-15,  2.98441140e-16,  4.94653823e-16,\n",
              "        1.12671149e-17, -1.98136337e-16,  2.36686358e-14,  5.95679996e-15,\n",
              "        6.13920356e-16])"
            ]
          },
          "metadata": {},
          "execution_count": 29
        }
      ]
    },
    {
      "cell_type": "code",
      "source": [
        "X_train.std(axis=0)"
      ],
      "metadata": {
        "colab": {
          "base_uri": "https://localhost:8080/"
        },
        "id": "PSOWwTi7MMhI",
        "outputId": "925d0923-22a4-4576-e8b4-719d526f40ff"
      },
      "execution_count": null,
      "outputs": [
        {
          "output_type": "execute_result",
          "data": {
            "text/plain": [
              "array([1., 1., 1., 1., 1., 1., 1., 1., 1., 1., 1., 1., 1.])"
            ]
          },
          "metadata": {},
          "execution_count": 30
        }
      ]
    },
    {
      "cell_type": "markdown",
      "source": [
        "### Архитектура сети\n",
        "\n",
        "\n",
        "Определение сети через класс Sequential и добавление слоев в него через add"
      ],
      "metadata": {
        "id": "Z1XTMfjpNU8S"
      }
    },
    {
      "cell_type": "code",
      "source": [
        "from keras.models import Sequential\n",
        "from keras.layers import Dense\n",
        "import tensorflow as tf\n",
        "tf.random.set_seed(9)\n",
        "\n",
        "\n",
        "model = Sequential()\n",
        "model.add(Dense(32, activation='relu', input_shape=(X_train.shape[1], )))\n",
        "model.add(Dense(16, activation='relu'))\n",
        "model.add(Dense(1))\n",
        "\n",
        "model.summary()"
      ],
      "metadata": {
        "colab": {
          "base_uri": "https://localhost:8080/"
        },
        "id": "P734IyAUNWpM",
        "outputId": "a20fd3a3-4ebc-40c3-c92f-6454c9f1c816"
      },
      "execution_count": null,
      "outputs": [
        {
          "output_type": "stream",
          "name": "stdout",
          "text": [
            "Model: \"sequential_2\"\n",
            "_________________________________________________________________\n",
            " Layer (type)                Output Shape              Param #   \n",
            "=================================================================\n",
            " dense_6 (Dense)             (None, 32)                448       \n",
            "                                                                 \n",
            " dense_7 (Dense)             (None, 16)                528       \n",
            "                                                                 \n",
            " dense_8 (Dense)             (None, 1)                 17        \n",
            "                                                                 \n",
            "=================================================================\n",
            "Total params: 993\n",
            "Trainable params: 993\n",
            "Non-trainable params: 0\n",
            "_________________________________________________________________\n"
          ]
        }
      ]
    },
    {
      "cell_type": "code",
      "source": [
        "model.compile(optimizer='adam', loss='mse', metrics=['mae'])"
      ],
      "metadata": {
        "id": "6bxv11s1NnJu"
      },
      "execution_count": null,
      "outputs": []
    },
    {
      "cell_type": "markdown",
      "source": [
        "### Обучение сети"
      ],
      "metadata": {
        "id": "QmoBr-uXRcy2"
      }
    },
    {
      "cell_type": "code",
      "source": [
        "%%time\n",
        "\n",
        "num_epochs = 10\n",
        "\n",
        "model.fit(X_train, y_train,\n",
        "          epochs=num_epochs)"
      ],
      "metadata": {
        "id": "vCI--E5vN3HG",
        "colab": {
          "base_uri": "https://localhost:8080/"
        },
        "outputId": "e2a25964-68e7-47e4-d4cb-e09e6d14e8e2"
      },
      "execution_count": null,
      "outputs": [
        {
          "output_type": "stream",
          "name": "stdout",
          "text": [
            "Epoch 1/10\n",
            "13/13 [==============================] - 0s 2ms/step - loss: 568.1458 - mae: 21.9958\n",
            "Epoch 2/10\n",
            "13/13 [==============================] - 0s 2ms/step - loss: 548.3544 - mae: 21.5271\n",
            "Epoch 3/10\n",
            "13/13 [==============================] - 0s 2ms/step - loss: 526.5145 - mae: 20.9990\n",
            "Epoch 4/10\n",
            "13/13 [==============================] - 0s 2ms/step - loss: 500.7500 - mae: 20.3578\n",
            "Epoch 5/10\n",
            "13/13 [==============================] - 0s 2ms/step - loss: 470.4189 - mae: 19.5854\n",
            "Epoch 6/10\n",
            "13/13 [==============================] - 0s 2ms/step - loss: 434.6254 - mae: 18.6555\n",
            "Epoch 7/10\n",
            "13/13 [==============================] - 0s 2ms/step - loss: 394.5962 - mae: 17.5325\n",
            "Epoch 8/10\n",
            "13/13 [==============================] - 0s 2ms/step - loss: 349.9172 - mae: 16.2734\n",
            "Epoch 9/10\n",
            "13/13 [==============================] - 0s 3ms/step - loss: 299.5508 - mae: 14.7792\n",
            "Epoch 10/10\n",
            "13/13 [==============================] - 0s 2ms/step - loss: 246.4727 - mae: 13.1105\n",
            "CPU times: user 717 ms, sys: 29.9 ms, total: 747 ms\n",
            "Wall time: 730 ms\n"
          ]
        }
      ]
    },
    {
      "cell_type": "markdown",
      "source": [
        "Сейчас прошло 13 батчей через сеть"
      ],
      "metadata": {
        "id": "EtQKfdyWOXB5"
      }
    },
    {
      "cell_type": "markdown",
      "source": [
        "#### **batch_size**\n",
        "> batch_size: Integer или None.<br>\n",
        "Количество сэмплов за один шаг градиентного спуска<br>\n",
        "Если None, то batch_size примет дефолтное значение 32<br>\n",
        "Не указывайте batch_size, если ваши данные представлены в виде генератора или keras.utils.Sequence (из-за того, что они сами генерируют данные батчами)"
      ],
      "metadata": {
        "id": "KPRwWBzXOmAA"
      }
    },
    {
      "cell_type": "code",
      "source": [
        "X_train.shape"
      ],
      "metadata": {
        "colab": {
          "base_uri": "https://localhost:8080/"
        },
        "id": "ekb4bBmeOHFl",
        "outputId": "90536bbf-71b7-49b9-8363-0c691efcfe06"
      },
      "execution_count": null,
      "outputs": [
        {
          "output_type": "execute_result",
          "data": {
            "text/plain": [
              "(404, 13)"
            ]
          },
          "metadata": {},
          "execution_count": 34
        }
      ]
    },
    {
      "cell_type": "code",
      "source": [
        "404 / 32"
      ],
      "metadata": {
        "colab": {
          "base_uri": "https://localhost:8080/"
        },
        "id": "k4mULIhJOZUY",
        "outputId": "62517af6-9b68-483d-c20b-fcf1321f0d6e"
      },
      "execution_count": null,
      "outputs": [
        {
          "output_type": "execute_result",
          "data": {
            "text/plain": [
              "12.625"
            ]
          },
          "metadata": {},
          "execution_count": 35
        }
      ]
    },
    {
      "cell_type": "markdown",
      "source": [
        "<img src='https://drive.google.com/uc?export=view&id=1j8SxKYEi12jzJXi_bPO28q5SV9emuu0Y'>"
      ],
      "metadata": {
        "id": "3fOpPUEDOE2T"
      }
    },
    {
      "cell_type": "code",
      "source": [
        "%%time\n",
        "num_epochs = 10\n",
        "\n",
        "model.fit(X_train, y_train,\n",
        "          epochs=num_epochs,\n",
        "          batch_size=64)"
      ],
      "metadata": {
        "colab": {
          "base_uri": "https://localhost:8080/"
        },
        "id": "2TEVf7n6OxA6",
        "outputId": "b0123b4b-1a31-49e6-b70f-d7358762f4b2"
      },
      "execution_count": null,
      "outputs": [
        {
          "output_type": "stream",
          "name": "stdout",
          "text": [
            "Epoch 1/10\n",
            "7/7 [==============================] - 0s 2ms/step - loss: 205.0507 - mae: 11.6536\n",
            "Epoch 2/10\n",
            "7/7 [==============================] - 0s 2ms/step - loss: 177.2639 - mae: 10.6083\n",
            "Epoch 3/10\n",
            "7/7 [==============================] - 0s 2ms/step - loss: 152.6436 - mae: 9.6686\n",
            "Epoch 4/10\n",
            "7/7 [==============================] - 0s 2ms/step - loss: 132.8702 - mae: 8.8585\n",
            "Epoch 5/10\n",
            "7/7 [==============================] - 0s 2ms/step - loss: 116.7651 - mae: 8.2183\n",
            "Epoch 6/10\n",
            "7/7 [==============================] - 0s 2ms/step - loss: 104.0974 - mae: 7.6807\n",
            "Epoch 7/10\n",
            "7/7 [==============================] - 0s 2ms/step - loss: 94.2699 - mae: 7.2536\n",
            "Epoch 8/10\n",
            "7/7 [==============================] - 0s 2ms/step - loss: 85.9139 - mae: 6.8800\n",
            "Epoch 9/10\n",
            "7/7 [==============================] - 0s 2ms/step - loss: 79.1750 - mae: 6.5551\n",
            "Epoch 10/10\n",
            "7/7 [==============================] - 0s 2ms/step - loss: 72.6714 - mae: 6.2447\n",
            "CPU times: user 262 ms, sys: 26.9 ms, total: 289 ms\n",
            "Wall time: 353 ms\n"
          ]
        }
      ]
    },
    {
      "cell_type": "code",
      "source": [
        "404 / 64"
      ],
      "metadata": {
        "colab": {
          "base_uri": "https://localhost:8080/"
        },
        "id": "XREUhIiMUELz",
        "outputId": "fa23eab7-d0d5-4e06-8e6c-dd441b1a37d0"
      },
      "execution_count": null,
      "outputs": [
        {
          "output_type": "execute_result",
          "data": {
            "text/plain": [
              "6.3125"
            ]
          },
          "metadata": {},
          "execution_count": 37
        }
      ]
    },
    {
      "cell_type": "code",
      "source": [
        "%%time\n",
        "num_epochs = 10\n",
        "\n",
        "model.fit(X_train, y_train,\n",
        "          epochs=num_epochs,\n",
        "          batch_size=404)"
      ],
      "metadata": {
        "colab": {
          "base_uri": "https://localhost:8080/"
        },
        "id": "1ZGrjXFdOxPA",
        "outputId": "c6f55671-7dcd-446a-80a5-c38d18fd8138"
      },
      "execution_count": null,
      "outputs": [
        {
          "output_type": "stream",
          "name": "stdout",
          "text": [
            "Epoch 1/10\n",
            "1/1 [==============================] - 0s 183ms/step - loss: 68.9849 - mae: 6.0634\n",
            "Epoch 2/10\n",
            "1/1 [==============================] - 0s 14ms/step - loss: 68.2099 - mae: 6.0216\n",
            "Epoch 3/10\n",
            "1/1 [==============================] - 0s 11ms/step - loss: 67.4433 - mae: 5.9807\n",
            "Epoch 4/10\n",
            "1/1 [==============================] - 0s 11ms/step - loss: 66.6846 - mae: 5.9404\n",
            "Epoch 5/10\n",
            "1/1 [==============================] - 0s 9ms/step - loss: 65.9333 - mae: 5.9007\n",
            "Epoch 6/10\n",
            "1/1 [==============================] - 0s 9ms/step - loss: 65.1889 - mae: 5.8613\n",
            "Epoch 7/10\n",
            "1/1 [==============================] - 0s 9ms/step - loss: 64.4519 - mae: 5.8223\n",
            "Epoch 8/10\n",
            "1/1 [==============================] - 0s 6ms/step - loss: 63.7225 - mae: 5.7836\n",
            "Epoch 9/10\n",
            "1/1 [==============================] - 0s 6ms/step - loss: 63.0009 - mae: 5.7454\n",
            "Epoch 10/10\n",
            "1/1 [==============================] - 0s 6ms/step - loss: 62.2875 - mae: 5.7079\n",
            "CPU times: user 331 ms, sys: 8.28 ms, total: 339 ms\n",
            "Wall time: 342 ms\n"
          ]
        }
      ]
    },
    {
      "cell_type": "markdown",
      "source": [
        "#### **steps_per_epoch**\n",
        "\n",
        ">  steps_per_epoch: Integer or `None`.<br>\n",
        "        Общее количество шагов (батчей сэмплов) на одной эпохе. <br>\n",
        "        Если стоит None, то steps_per_epoch равняется количеству сэмплов в датасете деленное на batch size"
      ],
      "metadata": {
        "id": "jskYwkWFPX8e"
      }
    },
    {
      "cell_type": "code",
      "source": [
        "404 / 10"
      ],
      "metadata": {
        "colab": {
          "base_uri": "https://localhost:8080/"
        },
        "id": "mbCJjK6qUxY-",
        "outputId": "7f2093d5-43f4-4bed-d0bc-611dc01fae18"
      },
      "execution_count": null,
      "outputs": [
        {
          "output_type": "execute_result",
          "data": {
            "text/plain": [
              "40.4"
            ]
          },
          "metadata": {},
          "execution_count": 40
        }
      ]
    },
    {
      "cell_type": "code",
      "source": [
        "%%time\n",
        "num_epochs = 10\n",
        "\n",
        "model.fit(X_train, y_train,\n",
        "          epochs=num_epochs,\n",
        "          steps_per_epoch=10)"
      ],
      "metadata": {
        "colab": {
          "base_uri": "https://localhost:8080/"
        },
        "id": "elDajMhxPXv3",
        "outputId": "e7bde01d-ac5e-45bc-d346-0e7f3b93e0b3"
      },
      "execution_count": null,
      "outputs": [
        {
          "output_type": "stream",
          "name": "stdout",
          "text": [
            "Epoch 1/10\n",
            "10/10 [==============================] - 0s 2ms/step - loss: 58.5746 - mae: 5.5218\n",
            "Epoch 2/10\n",
            "10/10 [==============================] - 0s 2ms/step - loss: 52.8691 - mae: 5.2081\n",
            "Epoch 3/10\n",
            "10/10 [==============================] - 0s 2ms/step - loss: 47.0966 - mae: 4.9088\n",
            "Epoch 4/10\n",
            "10/10 [==============================] - 0s 2ms/step - loss: 43.0253 - mae: 4.6953\n",
            "Epoch 5/10\n",
            "10/10 [==============================] - 0s 2ms/step - loss: 39.3765 - mae: 4.4933\n",
            "Epoch 6/10\n",
            "10/10 [==============================] - 0s 2ms/step - loss: 36.2800 - mae: 4.3142\n",
            "Epoch 7/10\n",
            "10/10 [==============================] - 0s 2ms/step - loss: 33.6417 - mae: 4.1737\n",
            "Epoch 8/10\n",
            "10/10 [==============================] - 0s 2ms/step - loss: 31.5410 - mae: 4.0545\n",
            "Epoch 9/10\n",
            "10/10 [==============================] - 0s 2ms/step - loss: 29.8779 - mae: 3.9553\n",
            "Epoch 10/10\n",
            "10/10 [==============================] - 0s 2ms/step - loss: 28.2445 - mae: 3.8496\n",
            "CPU times: user 327 ms, sys: 24.5 ms, total: 351 ms\n",
            "Wall time: 330 ms\n"
          ]
        }
      ]
    },
    {
      "cell_type": "markdown",
      "source": [
        "#### **validation_split**\n",
        "\n",
        "> validation_split: Float между 0 и 1.<br>\n",
        "        Доля обучающих данных, которая будет использоваться как валидационная часть<br>\n",
        "        Модель возьмет эту долю и не будет на ней обучаться, а будет подсчитывать метрики и функцию потерь в конце каждой эпохи<br>\n",
        "        Данные для валидации берутся из данных с конца в `x` и `y` **до перемешивания**."
      ],
      "metadata": {
        "id": "IaDwXXa9QSWO"
      }
    },
    {
      "cell_type": "code",
      "source": [
        "404 - 81"
      ],
      "metadata": {
        "colab": {
          "base_uri": "https://localhost:8080/"
        },
        "id": "VJgIZmddVP8c",
        "outputId": "db4f69c9-6167-42fb-e816-74745e721963"
      },
      "execution_count": null,
      "outputs": [
        {
          "output_type": "execute_result",
          "data": {
            "text/plain": [
              "323"
            ]
          },
          "metadata": {},
          "execution_count": 45
        }
      ]
    },
    {
      "cell_type": "code",
      "source": [
        "%%time\n",
        "num_epochs = 10\n",
        "\n",
        "model.fit(X_train, y_train,\n",
        "          epochs=num_epochs,\n",
        "          batch_size=1,\n",
        "          validation_split=0.2)"
      ],
      "metadata": {
        "colab": {
          "base_uri": "https://localhost:8080/"
        },
        "id": "ncS1dP4rQR9f",
        "outputId": "5b9eb260-d6b5-47c2-9ece-19ffc8794969"
      },
      "execution_count": null,
      "outputs": [
        {
          "output_type": "stream",
          "name": "stdout",
          "text": [
            "Epoch 1/10\n",
            "323/323 [==============================] - 1s 3ms/step - loss: 23.7887 - mae: 3.4618 - val_loss: 22.3951 - val_mae: 3.4461\n",
            "Epoch 2/10\n",
            "323/323 [==============================] - 1s 2ms/step - loss: 18.3039 - mae: 3.0675 - val_loss: 18.8717 - val_mae: 3.1509\n",
            "Epoch 3/10\n",
            "323/323 [==============================] - 1s 3ms/step - loss: 15.8008 - mae: 2.7966 - val_loss: 19.4543 - val_mae: 3.3434\n",
            "Epoch 4/10\n",
            "323/323 [==============================] - 1s 3ms/step - loss: 13.8707 - mae: 2.6303 - val_loss: 16.4949 - val_mae: 3.0323\n",
            "Epoch 5/10\n",
            "323/323 [==============================] - 1s 3ms/step - loss: 12.9570 - mae: 2.4865 - val_loss: 15.5677 - val_mae: 2.8850\n",
            "Epoch 6/10\n",
            "323/323 [==============================] - 1s 3ms/step - loss: 11.7685 - mae: 2.3840 - val_loss: 16.9575 - val_mae: 2.7447\n",
            "Epoch 7/10\n",
            "323/323 [==============================] - 1s 2ms/step - loss: 11.1454 - mae: 2.3930 - val_loss: 14.1790 - val_mae: 2.6787\n",
            "Epoch 8/10\n",
            "323/323 [==============================] - 1s 2ms/step - loss: 10.9632 - mae: 2.2944 - val_loss: 14.8609 - val_mae: 2.7368\n",
            "Epoch 9/10\n",
            "323/323 [==============================] - 1s 2ms/step - loss: 10.2214 - mae: 2.1759 - val_loss: 18.4467 - val_mae: 3.0628\n",
            "Epoch 10/10\n",
            "323/323 [==============================] - 1s 2ms/step - loss: 10.0996 - mae: 2.2170 - val_loss: 17.3058 - val_mae: 2.7520\n",
            "CPU times: user 8.91 s, sys: 491 ms, total: 9.4 s\n",
            "Wall time: 10.5 s\n"
          ]
        }
      ]
    },
    {
      "cell_type": "markdown",
      "source": [
        "#### **validation_data**\n",
        "\n",
        "> validation_data: Данные, на которых считается функция потерь и метрики в конце каждой эпохи<br>\n",
        "Модель не будет обучаться на этих данных\n"
      ],
      "metadata": {
        "id": "uISMy0AEQp0t"
      }
    },
    {
      "cell_type": "code",
      "source": [
        "%%time\n",
        "num_epochs = 10\n",
        "\n",
        "model.fit(X_train, y_train,\n",
        "          epochs=num_epochs,\n",
        "          batch_size=1,\n",
        "          validation_data=(X_test, y_test))"
      ],
      "metadata": {
        "colab": {
          "base_uri": "https://localhost:8080/"
        },
        "id": "NSL_MVEFRG1I",
        "outputId": "5277023b-f2ae-4c81-99b9-d80c30b7906f"
      },
      "execution_count": null,
      "outputs": [
        {
          "output_type": "stream",
          "name": "stdout",
          "text": [
            "Epoch 1/10\n",
            "404/404 [==============================] - 1s 2ms/step - loss: 10.6234 - mae: 2.2634 - val_loss: 22.9307 - val_mae: 2.9804\n",
            "Epoch 2/10\n",
            "404/404 [==============================] - 1s 2ms/step - loss: 10.3111 - mae: 2.2410 - val_loss: 22.5022 - val_mae: 3.0728\n",
            "Epoch 3/10\n",
            "404/404 [==============================] - 1s 2ms/step - loss: 9.8253 - mae: 2.2548 - val_loss: 24.5678 - val_mae: 2.9912\n",
            "Epoch 4/10\n",
            "404/404 [==============================] - 1s 2ms/step - loss: 9.7436 - mae: 2.2245 - val_loss: 26.1471 - val_mae: 3.1539\n",
            "Epoch 5/10\n",
            "404/404 [==============================] - 1s 2ms/step - loss: 9.3499 - mae: 2.1764 - val_loss: 22.1797 - val_mae: 2.9892\n",
            "Epoch 6/10\n",
            "404/404 [==============================] - 1s 2ms/step - loss: 8.9368 - mae: 2.1157 - val_loss: 22.1921 - val_mae: 2.8944\n",
            "Epoch 7/10\n",
            "404/404 [==============================] - 1s 2ms/step - loss: 8.7185 - mae: 2.1304 - val_loss: 23.7712 - val_mae: 2.9776\n",
            "Epoch 8/10\n",
            "404/404 [==============================] - 1s 2ms/step - loss: 8.8730 - mae: 2.1336 - val_loss: 22.6418 - val_mae: 3.0593\n",
            "Epoch 9/10\n",
            "404/404 [==============================] - 1s 2ms/step - loss: 8.4429 - mae: 2.0925 - val_loss: 25.5204 - val_mae: 3.1512\n",
            "Epoch 10/10\n",
            "404/404 [==============================] - 1s 2ms/step - loss: 8.5598 - mae: 2.1031 - val_loss: 20.9785 - val_mae: 2.9012\n",
            "CPU times: user 10.4 s, sys: 618 ms, total: 11.1 s\n",
            "Wall time: 9.67 s\n"
          ]
        }
      ]
    },
    {
      "cell_type": "markdown",
      "source": [
        "#### **validation_batch_size**\n",
        "\n",
        ">validation_batch_size: Integer или `None`.<br>\n",
        "        Количество сэмплов в один валидационный батч<br>\n",
        "        Если None, то по дефолту равняется `batch_size`.<br>\n",
        "        Не указывайте `validation_batch_size`, если ваши данные представлены в виде генератора или keras.utils.Sequence (из-за того, что они сами генерируют данные батчами)"
      ],
      "metadata": {
        "id": "3WgOrPa_Ru1B"
      }
    },
    {
      "cell_type": "code",
      "source": [
        "X_test.shape"
      ],
      "metadata": {
        "colab": {
          "base_uri": "https://localhost:8080/"
        },
        "id": "ThsEzmj_SKWr",
        "outputId": "358b272f-5467-40ce-885d-2aad28aab5d5"
      },
      "execution_count": null,
      "outputs": [
        {
          "output_type": "execute_result",
          "data": {
            "text/plain": [
              "(102, 13)"
            ]
          },
          "metadata": {},
          "execution_count": 47
        }
      ]
    },
    {
      "cell_type": "code",
      "source": [
        "%%time\n",
        "num_epochs = 10\n",
        "\n",
        "model.fit(X_train, y_train,\n",
        "          epochs=num_epochs,\n",
        "          batch_size=1,\n",
        "          validation_data=(X_test, y_test),\n",
        "          validation_batch_size=X_test.shape[0])"
      ],
      "metadata": {
        "colab": {
          "base_uri": "https://localhost:8080/"
        },
        "id": "wrg5omkiRj1B",
        "outputId": "dd7236ea-f6a2-47f5-d4b8-ed26c72ecbfe"
      },
      "execution_count": null,
      "outputs": [
        {
          "output_type": "stream",
          "name": "stdout",
          "text": [
            "Epoch 1/10\n",
            "404/404 [==============================] - 1s 2ms/step - loss: 7.2319 - mae: 1.9065 - val_loss: 18.4802 - val_mae: 2.6468\n",
            "Epoch 2/10\n",
            "404/404 [==============================] - 1s 2ms/step - loss: 7.3097 - mae: 1.9392 - val_loss: 19.0097 - val_mae: 2.6813\n",
            "Epoch 3/10\n",
            "404/404 [==============================] - 1s 2ms/step - loss: 6.9716 - mae: 1.9379 - val_loss: 20.7965 - val_mae: 2.7282\n",
            "Epoch 4/10\n",
            "404/404 [==============================] - 1s 2ms/step - loss: 7.2285 - mae: 1.9399 - val_loss: 22.9594 - val_mae: 2.9067\n",
            "Epoch 5/10\n",
            "404/404 [==============================] - 1s 2ms/step - loss: 7.0538 - mae: 1.9161 - val_loss: 18.5269 - val_mae: 2.7269\n",
            "Epoch 6/10\n",
            "404/404 [==============================] - 2s 4ms/step - loss: 6.9260 - mae: 1.9017 - val_loss: 18.7155 - val_mae: 2.6446\n",
            "Epoch 7/10\n",
            "404/404 [==============================] - 1s 3ms/step - loss: 6.5769 - mae: 1.8571 - val_loss: 21.4642 - val_mae: 2.8613\n",
            "Epoch 8/10\n",
            "404/404 [==============================] - 1s 2ms/step - loss: 6.9314 - mae: 1.9247 - val_loss: 20.0303 - val_mae: 2.8935\n",
            "Epoch 9/10\n",
            "404/404 [==============================] - 1s 2ms/step - loss: 6.5798 - mae: 1.8599 - val_loss: 22.4113 - val_mae: 2.9370\n",
            "Epoch 10/10\n",
            "404/404 [==============================] - 1s 2ms/step - loss: 6.6844 - mae: 1.8754 - val_loss: 18.5403 - val_mae: 2.7512\n",
            "CPU times: user 10.2 s, sys: 628 ms, total: 10.8 s\n",
            "Wall time: 20.5 s\n"
          ]
        }
      ]
    },
    {
      "cell_type": "markdown",
      "source": [
        "#### **validation_freq**\n",
        ">validation_freq: Только нужен, если предоставлены validation data. Integer\n",
        "        или `collections.abc.Container` (например, list, tuple, и др.).<br>\n",
        "        Если integer, то столько эпох с обучением пройдет, до одной валидации, например, `validation_freq=2` будет запускать валидацию каждые 2 эпохи.<br>\n",
        "        Если это Container, то валидация будет запущена в эти эпохи, к примеру,`validation_freq=[1, 2, 10]` запускает валидацию на 1, 2 и 10 эпохах."
      ],
      "metadata": {
        "id": "w_ceE1SIR8Vt"
      }
    },
    {
      "cell_type": "code",
      "source": [
        "%%time\n",
        "num_epochs = 10\n",
        "\n",
        "model.fit(X_train, y_train,\n",
        "          epochs=num_epochs,\n",
        "          batch_size=1,\n",
        "          validation_data=(X_test, y_test),\n",
        "          validation_batch_size=X_test.shape[0],\n",
        "          validation_freq=2)"
      ],
      "metadata": {
        "colab": {
          "base_uri": "https://localhost:8080/"
        },
        "id": "2O7qWnJKSQwz",
        "outputId": "1519d84d-3bf2-4fd5-dfab-63d0de59ed1d"
      },
      "execution_count": null,
      "outputs": [
        {
          "output_type": "stream",
          "name": "stdout",
          "text": [
            "Epoch 1/10\n",
            "404/404 [==============================] - 1s 2ms/step - loss: 6.3856 - mae: 1.8088\n",
            "Epoch 2/10\n",
            "404/404 [==============================] - 1s 2ms/step - loss: 6.5494 - mae: 1.8484 - val_loss: 17.8738 - val_mae: 2.5859\n",
            "Epoch 3/10\n",
            "404/404 [==============================] - 1s 2ms/step - loss: 6.2152 - mae: 1.8297\n",
            "Epoch 4/10\n",
            "404/404 [==============================] - 1s 2ms/step - loss: 6.4376 - mae: 1.8509 - val_loss: 21.5753 - val_mae: 2.8450\n",
            "Epoch 5/10\n",
            "404/404 [==============================] - 1s 2ms/step - loss: 6.2807 - mae: 1.8280\n",
            "Epoch 6/10\n",
            "404/404 [==============================] - 1s 2ms/step - loss: 6.1780 - mae: 1.8152 - val_loss: 17.3600 - val_mae: 2.5641\n",
            "Epoch 7/10\n",
            "404/404 [==============================] - 1s 2ms/step - loss: 5.8426 - mae: 1.7742\n",
            "Epoch 8/10\n",
            "404/404 [==============================] - 1s 2ms/step - loss: 6.1193 - mae: 1.8214 - val_loss: 18.8972 - val_mae: 2.8485\n",
            "Epoch 9/10\n",
            "404/404 [==============================] - 1s 2ms/step - loss: 5.8522 - mae: 1.7629\n",
            "Epoch 10/10\n",
            "404/404 [==============================] - 1s 2ms/step - loss: 5.9085 - mae: 1.7709 - val_loss: 17.7636 - val_mae: 2.7245\n",
            "CPU times: user 8.87 s, sys: 541 ms, total: 9.41 s\n",
            "Wall time: 8.17 s\n"
          ]
        }
      ]
    },
    {
      "cell_type": "code",
      "source": [
        "%%time\n",
        "num_epochs = 10\n",
        "\n",
        "model.fit(X_train, y_train,\n",
        "          epochs=num_epochs,\n",
        "          batch_size=1,\n",
        "          validation_data=(X_test, y_test),\n",
        "          validation_batch_size=X_test.shape[0],\n",
        "          validation_freq=[1, 5, 10])"
      ],
      "metadata": {
        "colab": {
          "base_uri": "https://localhost:8080/"
        },
        "id": "eIjSjGqaST76",
        "outputId": "c1ee22de-37f7-49cd-b100-c0c65b658970"
      },
      "execution_count": null,
      "outputs": [
        {
          "output_type": "stream",
          "name": "stdout",
          "text": [
            "Epoch 1/10\n",
            "404/404 [==============================] - 1s 2ms/step - loss: 5.6817 - mae: 1.7411 - val_loss: 16.2072 - val_mae: 2.5336\n",
            "Epoch 2/10\n",
            "404/404 [==============================] - 1s 2ms/step - loss: 5.8160 - mae: 1.7626\n",
            "Epoch 3/10\n",
            "404/404 [==============================] - 1s 2ms/step - loss: 5.4958 - mae: 1.7213\n",
            "Epoch 4/10\n",
            "404/404 [==============================] - 1s 2ms/step - loss: 5.7843 - mae: 1.7613\n",
            "Epoch 5/10\n",
            "404/404 [==============================] - 1s 2ms/step - loss: 5.5535 - mae: 1.7405 - val_loss: 16.0309 - val_mae: 2.5557\n",
            "Epoch 6/10\n",
            "404/404 [==============================] - 1s 2ms/step - loss: 5.5476 - mae: 1.7391\n",
            "Epoch 7/10\n",
            "404/404 [==============================] - 1s 2ms/step - loss: 5.2158 - mae: 1.6938\n",
            "Epoch 8/10\n",
            "404/404 [==============================] - 1s 2ms/step - loss: 5.5027 - mae: 1.7281\n",
            "Epoch 9/10\n",
            "404/404 [==============================] - 1s 2ms/step - loss: 5.2354 - mae: 1.6793\n",
            "Epoch 10/10\n",
            "404/404 [==============================] - 1s 2ms/step - loss: 5.2701 - mae: 1.6782 - val_loss: 16.0769 - val_mae: 2.6569\n",
            "CPU times: user 8.83 s, sys: 548 ms, total: 9.37 s\n",
            "Wall time: 8.09 s\n"
          ]
        }
      ]
    },
    {
      "cell_type": "markdown",
      "source": [
        "### Обучение нейросети на генераторах"
      ],
      "metadata": {
        "id": "8EEzRgS6bDR-"
      }
    },
    {
      "cell_type": "markdown",
      "source": [
        "Про Sequence больше [тут](https://www.tensorflow.org/api_docs/python/tf/keras/utils/Sequence)"
      ],
      "metadata": {
        "id": "oE4SheQsddUk"
      }
    },
    {
      "cell_type": "code",
      "source": [
        "import numpy as np\n",
        "from tensorflow.keras.utils import Sequence\n",
        "\n",
        "\n",
        "class DataGenerator(Sequence):\n",
        "    def __init__(self, data, labels, batch_size=32):\n",
        "        self.batch_size = batch_size\n",
        "        self.data = data\n",
        "        self.labels = labels\n",
        "\n",
        "    def __len__(self):\n",
        "        return int(np.round(len(self.data) / self.batch_size))\n",
        "\n",
        "    def __getitem__(self, index):\n",
        "        X = self.data[index * self.batch_size : (index+1) * self.batch_size]\n",
        "        y = self.labels[index * self.batch_size : (index+1) * self.batch_size]\n",
        "\n",
        "        return X, y"
      ],
      "metadata": {
        "id": "Bf-nfJSZbS2W"
      },
      "execution_count": null,
      "outputs": []
    },
    {
      "cell_type": "code",
      "source": [
        "train_datagen = DataGenerator(X_train, y_train)\n",
        "test_datagen = DataGenerator(X_test, y_test)"
      ],
      "metadata": {
        "id": "YJ7LVBucds4z"
      },
      "execution_count": null,
      "outputs": []
    },
    {
      "cell_type": "code",
      "source": [
        "len(train_datagen)"
      ],
      "metadata": {
        "colab": {
          "base_uri": "https://localhost:8080/"
        },
        "id": "8JEIEtjdED9B",
        "outputId": "c16d0924-f430-4bb2-d138-654a9283e9c6"
      },
      "execution_count": null,
      "outputs": [
        {
          "output_type": "execute_result",
          "data": {
            "text/plain": [
              "13"
            ]
          },
          "metadata": {},
          "execution_count": 54
        }
      ]
    },
    {
      "cell_type": "code",
      "source": [
        "len(test_datagen)"
      ],
      "metadata": {
        "colab": {
          "base_uri": "https://localhost:8080/"
        },
        "id": "-fvtDpq4W-cO",
        "outputId": "a50e018a-2021-46a5-91a2-0b781327cbc8"
      },
      "execution_count": null,
      "outputs": [
        {
          "output_type": "execute_result",
          "data": {
            "text/plain": [
              "3"
            ]
          },
          "metadata": {},
          "execution_count": 55
        }
      ]
    },
    {
      "cell_type": "code",
      "source": [
        "for X, y in train_datagen:\n",
        "    print(X.shape)\n",
        "    print(y.shape)\n",
        "    break"
      ],
      "metadata": {
        "colab": {
          "base_uri": "https://localhost:8080/"
        },
        "id": "TlBqpp-jd2e2",
        "outputId": "7f11a004-3990-4c3a-925a-2f5569f9d9ca"
      },
      "execution_count": null,
      "outputs": [
        {
          "output_type": "stream",
          "name": "stdout",
          "text": [
            "(32, 13)\n",
            "(32,)\n"
          ]
        }
      ]
    },
    {
      "cell_type": "code",
      "source": [
        "404 / 32"
      ],
      "metadata": {
        "colab": {
          "base_uri": "https://localhost:8080/"
        },
        "id": "oOpzLoZUenDC",
        "outputId": "caf7e72a-9c98-47eb-a1a5-934521e58007"
      },
      "execution_count": null,
      "outputs": [
        {
          "output_type": "execute_result",
          "data": {
            "text/plain": [
              "12.625"
            ]
          },
          "metadata": {},
          "execution_count": 57
        }
      ]
    },
    {
      "cell_type": "code",
      "source": [
        "%%time\n",
        "num_epochs = 10\n",
        "\n",
        "model.fit(train_datagen,\n",
        "          epochs=num_epochs,\n",
        "          validation_data=test_datagen)"
      ],
      "metadata": {
        "colab": {
          "base_uri": "https://localhost:8080/"
        },
        "id": "foAOq_mUds91",
        "outputId": "4fc33e87-def9-456f-b665-ed28c40d5dcc"
      },
      "execution_count": null,
      "outputs": [
        {
          "output_type": "stream",
          "name": "stdout",
          "text": [
            "Epoch 1/10\n",
            "13/13 [==============================] - 0s 12ms/step - loss: 4.3028 - mae: 1.5017 - val_loss: 10.6313 - val_mae: 2.3160\n",
            "Epoch 2/10\n",
            "13/13 [==============================] - 0s 6ms/step - loss: 4.2798 - mae: 1.5001 - val_loss: 10.5893 - val_mae: 2.3111\n",
            "Epoch 3/10\n",
            "13/13 [==============================] - 0s 6ms/step - loss: 4.2795 - mae: 1.5009 - val_loss: 10.5323 - val_mae: 2.3027\n",
            "Epoch 4/10\n",
            "13/13 [==============================] - 0s 6ms/step - loss: 4.2758 - mae: 1.5027 - val_loss: 10.5573 - val_mae: 2.3057\n",
            "Epoch 5/10\n",
            "13/13 [==============================] - 0s 6ms/step - loss: 4.2753 - mae: 1.5022 - val_loss: 10.6443 - val_mae: 2.3170\n",
            "Epoch 6/10\n",
            "13/13 [==============================] - 0s 6ms/step - loss: 4.2678 - mae: 1.4992 - val_loss: 10.6279 - val_mae: 2.3156\n",
            "Epoch 7/10\n",
            "13/13 [==============================] - 0s 6ms/step - loss: 4.2676 - mae: 1.4984 - val_loss: 10.5898 - val_mae: 2.3081\n",
            "Epoch 8/10\n",
            "13/13 [==============================] - 0s 6ms/step - loss: 4.2700 - mae: 1.5015 - val_loss: 10.4984 - val_mae: 2.2943\n",
            "Epoch 9/10\n",
            "13/13 [==============================] - 0s 6ms/step - loss: 4.2610 - mae: 1.4988 - val_loss: 10.5547 - val_mae: 2.3004\n",
            "Epoch 10/10\n",
            "13/13 [==============================] - 0s 6ms/step - loss: 4.2553 - mae: 1.4952 - val_loss: 10.6195 - val_mae: 2.3104\n",
            "CPU times: user 1.21 s, sys: 51.5 ms, total: 1.26 s\n",
            "Wall time: 1.41 s\n"
          ]
        }
      ]
    },
    {
      "cell_type": "markdown",
      "source": [
        "### History\n",
        "\n",
        "Больше [тут](https://www.tensorflow.org/api_docs/python/tf/keras/callbacks/History)"
      ],
      "metadata": {
        "id": "52wMWVdWfKy-"
      }
    },
    {
      "cell_type": "code",
      "source": [
        "%%time\n",
        "num_epochs = 10\n",
        "\n",
        "history = model.fit(train_datagen,\n",
        "                    epochs=num_epochs,\n",
        "                    validation_data=test_datagen)"
      ],
      "metadata": {
        "colab": {
          "base_uri": "https://localhost:8080/"
        },
        "id": "q5KOlVn4fMJG",
        "outputId": "6a2d3d9e-ee9d-4b85-fb91-9ec2e0eba9fd"
      },
      "execution_count": null,
      "outputs": [
        {
          "output_type": "stream",
          "name": "stdout",
          "text": [
            "Epoch 1/10\n",
            "13/13 [==============================] - 1s 29ms/step - loss: 567.5922 - mae: 21.9870 - val_loss: 560.5504 - val_mae: 21.9396\n",
            "Epoch 2/10\n",
            "13/13 [==============================] - 0s 5ms/step - loss: 547.6655 - mae: 21.5061 - val_loss: 539.8265 - val_mae: 21.4437\n",
            "Epoch 3/10\n",
            "13/13 [==============================] - 0s 6ms/step - loss: 525.2613 - mae: 20.9650 - val_loss: 516.1148 - val_mae: 20.8650\n",
            "Epoch 4/10\n",
            "13/13 [==============================] - 0s 6ms/step - loss: 499.9608 - mae: 20.3316 - val_loss: 488.0100 - val_mae: 20.1525\n",
            "Epoch 5/10\n",
            "13/13 [==============================] - 0s 5ms/step - loss: 469.9943 - mae: 19.5615 - val_loss: 454.7536 - val_mae: 19.2809\n",
            "Epoch 6/10\n",
            "13/13 [==============================] - 0s 5ms/step - loss: 435.0141 - mae: 18.6295 - val_loss: 416.6180 - val_mae: 18.2459\n",
            "Epoch 7/10\n",
            "13/13 [==============================] - 0s 6ms/step - loss: 394.4474 - mae: 17.5131 - val_loss: 374.2877 - val_mae: 17.1353\n",
            "Epoch 8/10\n",
            "13/13 [==============================] - 0s 5ms/step - loss: 350.4708 - mae: 16.2909 - val_loss: 326.7027 - val_mae: 15.9008\n",
            "Epoch 9/10\n",
            "13/13 [==============================] - 0s 5ms/step - loss: 301.7717 - mae: 14.8538 - val_loss: 276.3856 - val_mae: 14.5170\n",
            "Epoch 10/10\n",
            "13/13 [==============================] - 0s 5ms/step - loss: 250.4051 - mae: 13.2169 - val_loss: 222.0869 - val_mae: 12.8515\n",
            "CPU times: user 1.63 s, sys: 59.5 ms, total: 1.69 s\n",
            "Wall time: 1.93 s\n"
          ]
        }
      ]
    },
    {
      "cell_type": "code",
      "source": [
        "history"
      ],
      "metadata": {
        "colab": {
          "base_uri": "https://localhost:8080/"
        },
        "id": "1Ju1W7FVfc2F",
        "outputId": "470748b3-3e96-424d-b22e-317d051a8600"
      },
      "execution_count": null,
      "outputs": [
        {
          "output_type": "execute_result",
          "data": {
            "text/plain": [
              "<keras.callbacks.History at 0x7f0fd4e5e710>"
            ]
          },
          "metadata": {},
          "execution_count": 69
        }
      ]
    },
    {
      "cell_type": "code",
      "source": [
        "history.history"
      ],
      "metadata": {
        "colab": {
          "base_uri": "https://localhost:8080/"
        },
        "id": "ODbUIevHfSPg",
        "outputId": "445e1dfe-db5f-431a-ebe0-f52ac21188ca"
      },
      "execution_count": null,
      "outputs": [
        {
          "output_type": "execute_result",
          "data": {
            "text/plain": [
              "{'loss': [567.5922241210938,\n",
              "  547.6654663085938,\n",
              "  525.2612915039062,\n",
              "  499.96075439453125,\n",
              "  469.99432373046875,\n",
              "  435.0141296386719,\n",
              "  394.4473571777344,\n",
              "  350.4708251953125,\n",
              "  301.77166748046875,\n",
              "  250.4050750732422],\n",
              " 'mae': [21.987014770507812,\n",
              "  21.506057739257812,\n",
              "  20.965007781982422,\n",
              "  20.331594467163086,\n",
              "  19.561542510986328,\n",
              "  18.629533767700195,\n",
              "  17.5130615234375,\n",
              "  16.290931701660156,\n",
              "  14.853785514831543,\n",
              "  13.216885566711426],\n",
              " 'val_loss': [560.5504150390625,\n",
              "  539.8264770507812,\n",
              "  516.1148071289062,\n",
              "  488.010009765625,\n",
              "  454.7536315917969,\n",
              "  416.6179504394531,\n",
              "  374.2876892089844,\n",
              "  326.7027282714844,\n",
              "  276.3855895996094,\n",
              "  222.0868682861328],\n",
              " 'val_mae': [21.939577102661133,\n",
              "  21.443740844726562,\n",
              "  20.864990234375,\n",
              "  20.152509689331055,\n",
              "  19.28089714050293,\n",
              "  18.245872497558594,\n",
              "  17.135271072387695,\n",
              "  15.900837898254395,\n",
              "  14.517024993896484,\n",
              "  12.851500511169434]}"
            ]
          },
          "metadata": {},
          "execution_count": 70
        }
      ]
    },
    {
      "cell_type": "code",
      "source": [
        "import matplotlib.pyplot as plt\n",
        "\n",
        "plt.plot(history.history['loss'], label='train loss')\n",
        "plt.plot(history.history['val_loss'], label='test loss')\n",
        "plt.legend();"
      ],
      "metadata": {
        "colab": {
          "base_uri": "https://localhost:8080/",
          "height": 265
        },
        "id": "Rx7FzE21fmmV",
        "outputId": "9325f1a3-4803-4458-a275-75aa66a5be67"
      },
      "execution_count": null,
      "outputs": [
        {
          "output_type": "display_data",
          "data": {
            "text/plain": [
              "<Figure size 432x288 with 1 Axes>"
            ],
            "image/png": "[encoded data removed]"
          },
          "metadata": {
            "needs_background": "light"
          }
        }
      ]
    },
    {
      "cell_type": "code",
      "source": [
        "plt.plot(history.history['mae'], label='train mae')\n",
        "plt.plot(history.history['val_mae'], label='test mae')\n",
        "plt.legend();"
      ],
      "metadata": {
        "colab": {
          "base_uri": "https://localhost:8080/",
          "height": 265
        },
        "id": "lPUO7Rz1hJdv",
        "outputId": "4dd006b9-b265-4fb5-db19-cf63fcadcf7d"
      },
      "execution_count": null,
      "outputs": [
        {
          "output_type": "display_data",
          "data": {
            "text/plain": [
              "<Figure size 432x288 with 1 Axes>"
            ],
            "image/png": "[encoded data removed]"
          },
          "metadata": {
            "needs_background": "light"
          }
        }
      ]
    },
    {
      "cell_type": "markdown",
      "source": [
        "History - Callback, про них поговорим в следующих занятиях"
      ],
      "metadata": {
        "id": "5SXsFcMUp84_"
      }
    },
    {
      "cell_type": "markdown",
      "source": [
        "## Summary\n",
        "\n",
        "\n",
        "Вот мы и разобрались в деталях, что можно передавать в метод fit в Keras."
      ],
      "metadata": {
        "id": "cKL1g6ILJiNk"
      }
    },
    {
      "cell_type": "markdown",
      "source": [
        "**batch size**\n",
        "\n",
        "<img src='https://miro.medium.com/max/1400/1*jig1e2BDLN7KPmgOcirflQ.jpeg' width=500>\n",
        "\n",
        "___________________"
      ],
      "metadata": {
        "id": "qCRSmnVaxaOK"
      }
    },
    {
      "cell_type": "markdown",
      "source": [
        "**steps_per_epoch**\n",
        "\n",
        "<img src='https://media4.giphy.com/media/FMAUcALBqjajXV0qej/giphy.gif?cid=ecf05e47xa7bnffmbiq333qb36btdm8a262ww7xbgyu6ti2t&rid=giphy.gif&ct=g'>\n",
        "\n",
        "___________________"
      ],
      "metadata": {
        "id": "_cw1vAq80KCE"
      }
    },
    {
      "cell_type": "markdown",
      "source": [
        "**validation_split**\n",
        "\n",
        "<img src='https://media2.giphy.com/media/D2cY6SySBjyBuOzsYq/giphy.gif?cid=ecf05e47triw0wubv3aubehd4enhcus9dlxr996xnss8uffg&rid=giphy.gif&ct=g'>\n",
        "\n",
        "___________________"
      ],
      "metadata": {
        "id": "Jar6YAu73aPi"
      }
    },
    {
      "cell_type": "markdown",
      "source": [
        "**validation_data** и **validation_batch_size**\n",
        "\n",
        "<img src='https://media0.giphy.com/media/yOhgNO9YsmdsQ/giphy.gif?cid=ecf05e473qx1a618m4t3o922udc1mcfmqtfwdyi4mrqg2gcf&rid=giphy.gif&ct=g'>\n",
        "\n",
        "___________________"
      ],
      "metadata": {
        "id": "Cj4ciEg13c7A"
      }
    },
    {
      "cell_type": "markdown",
      "source": [
        "**validation_freq**\n",
        "\n",
        "<img src='http://memecrunch.com/meme/BH6DD/whats-the-frequency/image.jpg'>\n",
        "\n",
        "___________________"
      ],
      "metadata": {
        "id": "ka4kqQGb4AhI"
      }
    },
    {
      "cell_type": "markdown",
      "source": [
        "**Обучение нейросети на генераторах**\n",
        "\n",
        "<img src='https://realprodom.com/images/cat-proger.gif'>\n",
        "\n",
        "___________________"
      ],
      "metadata": {
        "id": "WihnCiRI4pvd"
      }
    },
    {
      "cell_type": "markdown",
      "source": [
        "**Callback History**\n",
        "\n",
        "<img src='https://drive.google.com/uc?id=1BxyC2qbNFgavqzCDQPj_sSuHYrjQHfNy' width=400>\n"
      ],
      "metadata": {
        "id": "7cPOnkOJ43YX"
      }
    },
    {
      "cell_type": "code",
      "source": [],
      "metadata": {
        "id": "JcPY_YE5RRd4"
      },
      "execution_count": null,
      "outputs": []
    }
  ]
}